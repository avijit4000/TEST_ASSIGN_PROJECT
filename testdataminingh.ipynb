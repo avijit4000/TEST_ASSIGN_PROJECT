{
 "cells": [
  {
   "cell_type": "code",
   "execution_count": 2,
   "metadata": {
    "collapsed": true,
    "pycharm": {
     "name": "#%%\n"
    }
   },
   "outputs": [],
   "source": [
    "import pandas as pd\n",
    "import numpy as np\n",
    "import seaborn as sns\n",
    "import matplotlib.pyplot as plt\n",
    "import matplotlib.style\n",
    "%matplotlib inline"
   ]
  },
  {
   "cell_type": "code",
   "execution_count": 3,
   "outputs": [
    {
     "ename": "ModuleNotFoundError",
     "evalue": "No module named 'mlxtend'",
     "output_type": "error",
     "traceback": [
      "\u001B[1;31m---------------------------------------------------------------------------\u001B[0m",
      "\u001B[1;31mModuleNotFoundError\u001B[0m                       Traceback (most recent call last)",
      "Cell \u001B[1;32mIn[3], line 1\u001B[0m\n\u001B[1;32m----> 1\u001B[0m \u001B[38;5;28;01mfrom\u001B[39;00m \u001B[38;5;21;01mmlxtend\u001B[39;00m\u001B[38;5;21;01m.\u001B[39;00m\u001B[38;5;21;01mfrequent_patterns\u001B[39;00m \u001B[38;5;28;01mimport\u001B[39;00m apriori, association_rules\n\u001B[0;32m      2\u001B[0m \u001B[38;5;28;01mfrom\u001B[39;00m \u001B[38;5;21;01mcollections\u001B[39;00m \u001B[38;5;28;01mimport\u001B[39;00m Counter\n\u001B[0;32m      3\u001B[0m \u001B[38;5;28;01mfrom\u001B[39;00m \u001B[38;5;21;01mIPython\u001B[39;00m\u001B[38;5;21;01m.\u001B[39;00m\u001B[38;5;21;01mdisplay\u001B[39;00m \u001B[38;5;28;01mimport\u001B[39;00m Image\n",
      "\u001B[1;31mModuleNotFoundError\u001B[0m: No module named 'mlxtend'"
     ]
    }
   ],
   "source": [
    "from mlxtend.frequent_patterns import apriori, association_rules\n",
    "from collections import Counter\n",
    "from IPython.display import Image\n",
    "\n",
    "from warnings import filterwarnings\n",
    "filterwarnings(\"ignore\", category=DeprecationWarning)\n"
   ],
   "metadata": {
    "collapsed": false,
    "pycharm": {
     "name": "#%%\n"
    }
   }
  },
  {
   "cell_type": "code",
   "execution_count": 12,
   "outputs": [
    {
     "ename": "ModuleNotFoundError",
     "evalue": "No module named 'mlxtend'",
     "output_type": "error",
     "traceback": [
      "\u001B[1;31m---------------------------------------------------------------------------\u001B[0m",
      "\u001B[1;31mModuleNotFoundError\u001B[0m                       Traceback (most recent call last)",
      "Cell \u001B[1;32mIn[12], line 1\u001B[0m\n\u001B[1;32m----> 1\u001B[0m \u001B[38;5;28;01mfrom\u001B[39;00m \u001B[38;5;21;01mmlxtend\u001B[39;00m\u001B[38;5;21;01m.\u001B[39;00m\u001B[38;5;21;01mfrequent_patterns\u001B[39;00m \u001B[38;5;28;01mimport\u001B[39;00m apriori,association_rules\n",
      "\u001B[1;31mModuleNotFoundError\u001B[0m: No module named 'mlxtend'"
     ]
    }
   ],
   "source": [
    "from mlxtend.frequent_patterns import apriori,association_rules"
   ],
   "metadata": {
    "collapsed": false,
    "pycharm": {
     "name": "#%%\n"
    }
   }
  },
  {
   "cell_type": "code",
   "execution_count": 9,
   "outputs": [],
   "source": [
    "df=pd.read_excel(r\"Groceries_dataset.xlsx\")"
   ],
   "metadata": {
    "collapsed": false,
    "pycharm": {
     "name": "#%%\n"
    }
   }
  },
  {
   "cell_type": "code",
   "execution_count": 13,
   "outputs": [
    {
     "data": {
      "text/plain": "   Member_number                 Date   itemDescription\n0           1808           21-07-2015    tropical fruit\n1           2552  2015-05-01 00:00:00        whole milk\n2           2300           19-09-2015         pip fruit\n3           1187  2015-12-12 00:00:00  other vegetables\n4           3037  2015-01-02 00:00:00        whole milk",
      "text/html": "<div>\n<style scoped>\n    .dataframe tbody tr th:only-of-type {\n        vertical-align: middle;\n    }\n\n    .dataframe tbody tr th {\n        vertical-align: top;\n    }\n\n    .dataframe thead th {\n        text-align: right;\n    }\n</style>\n<table border=\"1\" class=\"dataframe\">\n  <thead>\n    <tr style=\"text-align: right;\">\n      <th></th>\n      <th>Member_number</th>\n      <th>Date</th>\n      <th>itemDescription</th>\n    </tr>\n  </thead>\n  <tbody>\n    <tr>\n      <th>0</th>\n      <td>1808</td>\n      <td>21-07-2015</td>\n      <td>tropical fruit</td>\n    </tr>\n    <tr>\n      <th>1</th>\n      <td>2552</td>\n      <td>2015-05-01 00:00:00</td>\n      <td>whole milk</td>\n    </tr>\n    <tr>\n      <th>2</th>\n      <td>2300</td>\n      <td>19-09-2015</td>\n      <td>pip fruit</td>\n    </tr>\n    <tr>\n      <th>3</th>\n      <td>1187</td>\n      <td>2015-12-12 00:00:00</td>\n      <td>other vegetables</td>\n    </tr>\n    <tr>\n      <th>4</th>\n      <td>3037</td>\n      <td>2015-01-02 00:00:00</td>\n      <td>whole milk</td>\n    </tr>\n  </tbody>\n</table>\n</div>"
     },
     "execution_count": 13,
     "metadata": {},
     "output_type": "execute_result"
    }
   ],
   "source": [
    "df.head()"
   ],
   "metadata": {
    "collapsed": false,
    "pycharm": {
     "name": "#%%\n"
    }
   }
  },
  {
   "cell_type": "code",
   "execution_count": 14,
   "outputs": [
    {
     "data": {
      "text/plain": "3898"
     },
     "execution_count": 14,
     "metadata": {},
     "output_type": "execute_result"
    }
   ],
   "source": [
    "df.Member_number.nunique()"
   ],
   "metadata": {
    "collapsed": false,
    "pycharm": {
     "name": "#%%\n"
    }
   }
  },
  {
   "cell_type": "code",
   "execution_count": 15,
   "outputs": [
    {
     "data": {
      "text/plain": "167"
     },
     "execution_count": 15,
     "metadata": {},
     "output_type": "execute_result"
    }
   ],
   "source": [
    "df.itemDescription.nunique()"
   ],
   "metadata": {
    "collapsed": false,
    "pycharm": {
     "name": "#%%\n"
    }
   }
  },
  {
   "cell_type": "code",
   "execution_count": 16,
   "outputs": [
    {
     "data": {
      "text/plain": "728"
     },
     "execution_count": 16,
     "metadata": {},
     "output_type": "execute_result"
    }
   ],
   "source": [
    "df.Date.nunique()"
   ],
   "metadata": {
    "collapsed": false,
    "pycharm": {
     "name": "#%%\n"
    }
   }
  },
  {
   "cell_type": "code",
   "execution_count": 17,
   "outputs": [
    {
     "data": {
      "text/plain": "Member_number      0\nDate               0\nitemDescription    0\ndtype: int64"
     },
     "execution_count": 17,
     "metadata": {},
     "output_type": "execute_result"
    }
   ],
   "source": [
    "df.isnull().sum().sort_values(ascending=False)"
   ],
   "metadata": {
    "collapsed": false,
    "pycharm": {
     "name": "#%%\n"
    }
   }
  },
  {
   "cell_type": "code",
   "execution_count": 18,
   "outputs": [
    {
     "data": {
      "text/plain": "itemDescription\nwhole milk          2502\nother vegetables    1898\nrolls/buns          1716\nsoda                1514\nyogurt              1334\nroot vegetables     1071\ntropical fruit      1032\nbottled water        933\nsausage              924\ncitrus fruit         812\nName: count, dtype: int64"
     },
     "execution_count": 18,
     "metadata": {},
     "output_type": "execute_result"
    }
   ],
   "source": [
    "df[\"itemDescription\"].value_counts().head(10)"
   ],
   "metadata": {
    "collapsed": false,
    "pycharm": {
     "name": "#%%\n"
    }
   }
  },
  {
   "cell_type": "code",
   "execution_count": 19,
   "outputs": [],
   "source": [
    "basket=(df.groupby([\"Member_number\",\"itemDescription\"])[\"Date\"])"
   ],
   "metadata": {
    "collapsed": false,
    "pycharm": {
     "name": "#%%\n"
    }
   }
  },
  {
   "cell_type": "code",
   "execution_count": 20,
   "outputs": [
    {
     "data": {
      "text/plain": "<pandas.core.groupby.generic.SeriesGroupBy object at 0x00000171B9BA1ED0>"
     },
     "execution_count": 20,
     "metadata": {},
     "output_type": "execute_result"
    }
   ],
   "source": [
    "basket"
   ],
   "metadata": {
    "collapsed": false,
    "pycharm": {
     "name": "#%%\n"
    }
   }
  },
  {
   "cell_type": "code",
   "execution_count": 1,
   "outputs": [],
   "source": [
    "import sklearn as sk"
   ],
   "metadata": {
    "collapsed": false,
    "pycharm": {
     "name": "#%%\n"
    }
   }
  },
  {
   "cell_type": "code",
   "execution_count": 2,
   "outputs": [],
   "source": [
    "import matplotlib.pyplot as plt"
   ],
   "metadata": {
    "collapsed": false,
    "pycharm": {
     "name": "#%%\n"
    }
   }
  },
  {
   "cell_type": "code",
   "execution_count": 3,
   "outputs": [
    {
     "ename": "AttributeError",
     "evalue": "module 'sklearn' has no attribute 'linear_model'",
     "output_type": "error",
     "traceback": [
      "\u001B[1;31m---------------------------------------------------------------------------\u001B[0m",
      "\u001B[1;31mAttributeError\u001B[0m                            Traceback (most recent call last)",
      "Cell \u001B[1;32mIn[3], line 1\u001B[0m\n\u001B[1;32m----> 1\u001B[0m model\u001B[38;5;241m=\u001B[39m\u001B[43msk\u001B[49m\u001B[38;5;241;43m.\u001B[39;49m\u001B[43mlinear_model\u001B[49m\n",
      "\u001B[1;31mAttributeError\u001B[0m: module 'sklearn' has no attribute 'linear_model'"
     ]
    }
   ],
   "source": [
    "model=sk.linear_model()"
   ],
   "metadata": {
    "collapsed": false,
    "pycharm": {
     "name": "#%%\n"
    }
   }
  },
  {
   "cell_type": "code",
   "execution_count": 1,
   "outputs": [
    {
     "name": "stdout",
     "output_type": "stream",
     "text": [
      "Avijit Biswas\n"
     ]
    }
   ],
   "source": [
    "print(\"Avijit Biswas\")"
   ],
   "metadata": {
    "collapsed": false,
    "pycharm": {
     "name": "#%%\n"
    }
   }
  },
  {
   "cell_type": "code",
   "execution_count": 5,
   "outputs": [
    {
     "ename": "ModuleNotFoundError",
     "evalue": "No module named 'pulp'",
     "output_type": "error",
     "traceback": [
      "\u001B[1;31m---------------------------------------------------------------------------\u001B[0m",
      "\u001B[1;31mModuleNotFoundError\u001B[0m                       Traceback (most recent call last)",
      "Cell \u001B[1;32mIn[5], line 2\u001B[0m\n\u001B[0;32m      1\u001B[0m \u001B[38;5;66;03m# import the library pulp as p\u001B[39;00m\n\u001B[1;32m----> 2\u001B[0m \u001B[38;5;28;01mimport\u001B[39;00m \u001B[38;5;21;01mpulp\u001B[39;00m \u001B[38;5;28;01mas\u001B[39;00m \u001B[38;5;21;01mp\u001B[39;00m\n\u001B[0;32m      4\u001B[0m \u001B[38;5;66;03m# Create a LP Minimization problem\u001B[39;00m\n\u001B[0;32m      5\u001B[0m Lp_prob \u001B[38;5;241m=\u001B[39m p\u001B[38;5;241m.\u001B[39mLpProblem(\u001B[38;5;124m'\u001B[39m\u001B[38;5;124mProblem\u001B[39m\u001B[38;5;124m'\u001B[39m, p\u001B[38;5;241m.\u001B[39mLpMinimize)\n",
      "\u001B[1;31mModuleNotFoundError\u001B[0m: No module named 'pulp'"
     ]
    }
   ],
   "source": [
    "# import the library pulp as p\n",
    "import pulp as p\n",
    "\n",
    "# Create a LP Minimization problem\n",
    "Lp_prob = p.LpProblem('Problem', p.LpMinimize)\n",
    "\n",
    "# Create problem Variables\n",
    "x = p.LpVariable(\"x\", lowBound = 0)   # Create a variable x >= 0\n",
    "y = p.LpVariable(\"y\", lowBound = 0)   # Create a variable y >= 0\n",
    "\n",
    "# Objective Function\n",
    "Lp_prob += 3 * x + 5 * y\n",
    "\n",
    "# Constraints:\n",
    "Lp_prob += 2 * x + 3 * y >= 12\n",
    "Lp_prob += -x + y <= 3\n",
    "Lp_prob += x >= 4\n",
    "Lp_prob += y <= 3\n",
    "\n",
    "# Display the problem\n",
    "print(Lp_prob)\n",
    "\n",
    "status = Lp_prob.solve()   # Solver\n",
    "print(p.LpStatus[status])   # The solution status\n",
    "\n",
    "# Printing the final solution\n",
    "print(p.value(x), p.value(y), p.value(Lp_prob.objective))"
   ],
   "metadata": {
    "collapsed": false,
    "pycharm": {
     "name": "#%%\n"
    }
   }
  },
  {
   "cell_type": "code",
   "execution_count": 6,
   "outputs": [
    {
     "name": "stderr",
     "output_type": "stream",
     "text": [
      "ERROR: Could not find a version that satisfies the requirement pupl (from versions: none)\n",
      "ERROR: No matching distribution found for pupl\n",
      "\n",
      "[notice] A new release of pip is available: 23.3.2 -> 24.0\n",
      "[notice] To update, run: python.exe -m pip install --upgrade pip\n"
     ]
    }
   ],
   "source": [
    "!pip install pupl"
   ],
   "metadata": {
    "collapsed": false,
    "pycharm": {
     "name": "#%%\n"
    }
   }
  },
  {
   "cell_type": "code",
   "execution_count": null,
   "outputs": [],
   "source": [
    "response=['Welcome to smart calculator','My name is MONTY',\n",
    "          'Thanks for enjoy with me ','Sorry ,this is  beyond my ability']\n",
    "\n",
    "# fetching tokens from the text command\n",
    "def extract_from_text(text):\n",
    "    l=[]\n",
    "    for t in text.split(' '):\n",
    "        try:\n",
    "            l.append(float(t))\n",
    "        except ValueError:\n",
    "            pass\n",
    "    return l\n",
    "\n",
    "# calculating LCM\n",
    "def lcm(a,b):\n",
    "    L=a if a>b else b\n",
    "    while L<=a*b:\n",
    "        if L%a==0 and L%b==0:\n",
    "            return L\n",
    "        L+=1\n",
    "\n",
    "# calculating HCF\n",
    "def hcf(a,b):\n",
    "    H=a if a<b else b\n",
    "    while H>=1:\n",
    "        if a%H==0 and b%H==0:\n",
    "            return H\n",
    "        H-=1\n",
    "\n",
    "# Addition\n",
    "def add(a,b):\n",
    "    return a+b\n",
    "\n",
    "# Subtraction\n",
    "def sub(a,b):\n",
    "    return a-b\n",
    "\n",
    "# Multiplication\n",
    "def mul(a,b):\n",
    "    return a*b\n",
    "\n",
    "# Division\n",
    "def div(a,b):\n",
    "    return a/b\n",
    "\n",
    "# Remainder\n",
    "def mod(a,b):\n",
    "    return a%b\n",
    "\n",
    "# Response to command\n",
    "# printing - \"Thanks for enjoy with me\" on exit\n",
    "def end():\n",
    "    print(response[2])\n",
    "    input('press enter key to exit')\n",
    "    exit()\n",
    "\n",
    "def myname():\n",
    "    print(response[1])\n",
    "def sorry():\n",
    "    print(response[3])\n",
    "\n",
    "# Operations - performed on the basis of text tokens\n",
    "operations={'ADD':add,'PLUS':add,'SUM':add,'ADDITION':add,\n",
    "            'SUB':sub,'SUBTRACT':sub, 'MINUS':sub,\n",
    "            'DIFFERENCE':sub,'LCM':lcm,'HCF':hcf,\n",
    "            'PRODUCT':mul, 'MULTIPLY':mul,'MULTIPLICATION':mul,\n",
    "            'DIVISION':div,'MOD':mod,'REMAINDER'\n",
    "            :mod,'MODULAS':mod}\n",
    "\n",
    "# commands\n",
    "commands={'NAME':myname,'EXIT':end,'END':end,'CLOSE':end}\n",
    "\n",
    "print('--------------'+response[0]+'------------')\n",
    "print('--------------'+response[1]+'--------------------')\n",
    "\n",
    "\n",
    "while True:\n",
    "    print()\n",
    "    text=input('enter your queries:  ')\n",
    "    for word in text.split(' '):\n",
    "        if word.upper() in operations.keys():\n",
    "            try:\n",
    "                l = extract_from_text(text)\n",
    "                r = operations[word.upper()] (l[0],l[1])\n",
    "                print(r)\n",
    "            except:\n",
    "                print('something went wrong going plz enter again !!')\n",
    "            finally:\n",
    "                      break\n",
    "        elif word.upper() in commands.keys():\n",
    "                      commands[word.upper()]()\n",
    "                      break\n",
    "    else:\n",
    "        sorry()"
   ],
   "metadata": {
    "collapsed": false,
    "pycharm": {
     "name": "#%%\n"
    }
   }
  }
 ],
 "metadata": {
  "kernelspec": {
   "display_name": "Python 3",
   "language": "python",
   "name": "python3"
  },
  "language_info": {
   "codemirror_mode": {
    "name": "ipython",
    "version": 2
   },
   "file_extension": ".py",
   "mimetype": "text/x-python",
   "name": "python",
   "nbconvert_exporter": "python",
   "pygments_lexer": "ipython2",
   "version": "2.7.6"
  }
 },
 "nbformat": 4,
 "nbformat_minor": 0
}